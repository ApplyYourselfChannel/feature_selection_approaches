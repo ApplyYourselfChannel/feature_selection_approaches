{
 "cells": [
  {
   "cell_type": "markdown",
   "id": "ea897e68-4801-416a-9cba-1389aea2e589",
   "metadata": {},
   "source": [
    "# Feature Selection\n",
    "\n",
    "## Quasi-Constant features\n",
    "\n",
    "Quasi-constant features show the same value for **majority** of the observations of the dataset. \n",
    "\n",
    "These features provide little, if any, information value to a machine learning model. \n",
    "\n",
    "However, there can be exceptions. So be careful when removing these type of features."
   ]
  },
  {
   "cell_type": "code",
   "execution_count": 1,
   "id": "426afdd5-a926-4a19-807f-6099bf30869c",
   "metadata": {},
   "outputs": [],
   "source": [
    "import numpy as np\n",
    "import pandas as pd"
   ]
  },
  {
   "cell_type": "code",
   "execution_count": 2,
   "id": "0c1e5bb2-1aba-47ac-b832-1dc0323f01a2",
   "metadata": {},
   "outputs": [],
   "source": [
    "from sklearn.model_selection import train_test_split\n",
    "from sklearn.feature_selection import VarianceThreshold"
   ]
  },
  {
   "cell_type": "code",
   "execution_count": 3,
   "id": "099c29b3-8155-4271-ba54-cd15bd3beca7",
   "metadata": {},
   "outputs": [],
   "source": [
    "df = pd.read_csv('toy_dataset.csv')"
   ]
  },
  {
   "cell_type": "code",
   "execution_count": 4,
   "id": "d4ce4695-0cec-4b9a-9e0b-c382ebf3597f",
   "metadata": {},
   "outputs": [
    {
     "data": {
      "text/plain": [
       "(50000, 301)"
      ]
     },
     "execution_count": 4,
     "metadata": {},
     "output_type": "execute_result"
    }
   ],
   "source": [
    "df.shape"
   ]
  },
  {
   "cell_type": "code",
   "execution_count": 5,
   "id": "aa58c5e1-5ebf-4030-afe6-2a9f2d37c888",
   "metadata": {},
   "outputs": [],
   "source": [
    "X = df.drop(labels=['target'], axis=1)\n",
    "y = df['target']"
   ]
  },
  {
   "cell_type": "code",
   "execution_count": 6,
   "id": "ec8cf10f-9438-43aa-9de4-aeb79ad364c2",
   "metadata": {},
   "outputs": [],
   "source": [
    "X_train, X_test, y_train, y_test = train_test_split(X, y, test_size=0.3, random_state=0)"
   ]
  },
  {
   "cell_type": "markdown",
   "id": "dc1e0807-fcf3-4eec-bc02-439c6b1b0817",
   "metadata": {},
   "source": [
    "### Remove Quasi Constant Features\n",
    "#### Approach 1: Variance Threshold Module"
   ]
  },
  {
   "cell_type": "code",
   "execution_count": 7,
   "id": "bc08835f-0130-4f72-821d-ac1fde934f1b",
   "metadata": {},
   "outputs": [],
   "source": [
    "constant_features = [feat for feat in X_train.columns if X_train[feat].std() == 0]"
   ]
  },
  {
   "cell_type": "code",
   "execution_count": 8,
   "id": "24c90a21-f0e0-4d77-8db6-e491580388ad",
   "metadata": {},
   "outputs": [
    {
     "data": {
      "text/plain": [
       "34"
      ]
     },
     "execution_count": 8,
     "metadata": {},
     "output_type": "execute_result"
    }
   ],
   "source": [
    "len(constant_features)"
   ]
  },
  {
   "cell_type": "code",
   "execution_count": 9,
   "id": "ef0f013a-12d2-4c60-9dec-51effd9fe47a",
   "metadata": {},
   "outputs": [],
   "source": [
    "X_train.drop(labels=constant_features, axis=1, inplace=True)\n",
    "X_test.drop(labels=constant_features, axis=1, inplace=True)"
   ]
  },
  {
   "cell_type": "code",
   "execution_count": 10,
   "id": "04c2f1cc-d3c6-4824-b0af-e023654c552c",
   "metadata": {},
   "outputs": [
    {
     "data": {
      "text/plain": [
       "((35000, 266), (15000, 266))"
      ]
     },
     "execution_count": 10,
     "metadata": {},
     "output_type": "execute_result"
    }
   ],
   "source": [
    "X_train.shape, X_test.shape"
   ]
  },
  {
   "cell_type": "code",
   "execution_count": 11,
   "id": "320b3039-ee85-4a24-8efb-655e589befad",
   "metadata": {},
   "outputs": [],
   "source": [
    "sel = VarianceThreshold(threshold=0.01)"
   ]
  },
  {
   "cell_type": "code",
   "execution_count": 12,
   "id": "bd3cced9-5248-4798-9b3c-ee208fd084fc",
   "metadata": {},
   "outputs": [
    {
     "data": {
      "text/plain": [
       "VarianceThreshold(threshold=0.01)"
      ]
     },
     "execution_count": 12,
     "metadata": {},
     "output_type": "execute_result"
    }
   ],
   "source": [
    "sel.fit(X_train)"
   ]
  },
  {
   "cell_type": "code",
   "execution_count": 13,
   "id": "7a378e25-c7c8-4f2f-b09d-d53e101853b1",
   "metadata": {},
   "outputs": [
    {
     "data": {
      "text/plain": [
       "215"
      ]
     },
     "execution_count": 13,
     "metadata": {},
     "output_type": "execute_result"
    }
   ],
   "source": [
    "sum(sel.get_support())"
   ]
  },
  {
   "cell_type": "code",
   "execution_count": 14,
   "id": "3b8fdcf5-544f-448a-98b3-a95f553594d1",
   "metadata": {},
   "outputs": [],
   "source": [
    "quasi_constant = X_train.columns[~sel.get_support()]"
   ]
  },
  {
   "cell_type": "code",
   "execution_count": 15,
   "id": "d99b2eb2-0de6-44d0-9757-cd4f7d8cb301",
   "metadata": {},
   "outputs": [
    {
     "data": {
      "text/plain": [
       "51"
      ]
     },
     "execution_count": 15,
     "metadata": {},
     "output_type": "execute_result"
    }
   ],
   "source": [
    "len(quasi_constant)"
   ]
  },
  {
   "cell_type": "code",
   "execution_count": 16,
   "id": "bee74c1b-906c-4646-b8aa-9da2a665406e",
   "metadata": {},
   "outputs": [
    {
     "data": {
      "text/plain": [
       "Index(['var_1', 'var_2', 'var_7', 'var_9', 'var_10', 'var_19', 'var_28',\n",
       "       'var_36', 'var_43', 'var_45', 'var_53', 'var_56', 'var_59', 'var_66',\n",
       "       'var_67', 'var_69', 'var_71', 'var_104', 'var_106', 'var_116',\n",
       "       'var_133', 'var_137', 'var_141', 'var_146', 'var_177', 'var_187',\n",
       "       'var_189', 'var_194', 'var_197', 'var_198', 'var_202', 'var_218',\n",
       "       'var_219', 'var_223', 'var_233', 'var_234', 'var_235', 'var_245',\n",
       "       'var_247', 'var_249', 'var_250', 'var_251', 'var_256', 'var_260',\n",
       "       'var_267', 'var_274', 'var_282', 'var_285', 'var_287', 'var_289',\n",
       "       'var_298'],\n",
       "      dtype='object')"
      ]
     },
     "execution_count": 16,
     "metadata": {},
     "output_type": "execute_result"
    }
   ],
   "source": [
    "quasi_constant"
   ]
  },
  {
   "cell_type": "code",
   "execution_count": 17,
   "id": "57174e46-c0f2-4e89-9eb2-18cb37615c93",
   "metadata": {},
   "outputs": [
    {
     "name": "stderr",
     "output_type": "stream",
     "text": [
      "/var/folders/xl/v8krktws1950jqr4dwl6px980000gp/T/ipykernel_17621/3639702933.py:1: DeprecationWarning: `np.float` is a deprecated alias for the builtin `float`. To silence this warning, use `float` by itself. Doing this will not modify any behavior and is safe. If you specifically wanted the numpy scalar type, use `np.float64` here.\n",
      "Deprecated in NumPy 1.20; for more details and guidance: https://numpy.org/devdocs/release/1.20.0-notes.html#deprecations\n",
      "  X_train['var_67'].value_counts() / np.float(len(X_train))\n"
     ]
    },
    {
     "data": {
      "text/plain": [
       "0    0.999971\n",
       "1    0.000029\n",
       "Name: var_67, dtype: float64"
      ]
     },
     "execution_count": 17,
     "metadata": {},
     "output_type": "execute_result"
    }
   ],
   "source": [
    "X_train['var_67'].value_counts() / np.float(len(X_train))"
   ]
  },
  {
   "cell_type": "code",
   "execution_count": 18,
   "id": "b2a25315-d317-415a-ad7b-ba505ee11bf3",
   "metadata": {},
   "outputs": [],
   "source": [
    "feat_names = X_train.columns[sel.get_support()]"
   ]
  },
  {
   "cell_type": "code",
   "execution_count": 19,
   "id": "9679e848-7019-4471-967d-1ecae1eb155d",
   "metadata": {},
   "outputs": [],
   "source": [
    "X_train = sel.transform(X_train)\n",
    "X_test = sel.transform(X_test)"
   ]
  },
  {
   "cell_type": "code",
   "execution_count": 20,
   "id": "e8e495d5-74af-4c06-b821-66ae5c40b59f",
   "metadata": {},
   "outputs": [
    {
     "data": {
      "text/plain": [
       "((35000, 215), (15000, 215))"
      ]
     },
     "execution_count": 20,
     "metadata": {},
     "output_type": "execute_result"
    }
   ],
   "source": [
    "X_train.shape, X_test.shape"
   ]
  },
  {
   "cell_type": "code",
   "execution_count": 21,
   "id": "fdf6c105-d741-4956-bc8e-d7aa373dbf0f",
   "metadata": {},
   "outputs": [],
   "source": [
    "X_train = pd.DataFrame(X_train, columns=feat_names)\n",
    "X_test = pd.DataFrame(X_test, columns=feat_names)"
   ]
  },
  {
   "cell_type": "markdown",
   "id": "bf9d53b9-2c0b-4c4a-8eff-494604e29290",
   "metadata": {},
   "source": [
    "### Remove Quasi Constant Features\n",
    "#### Approach 2: Standard Deviation"
   ]
  },
  {
   "cell_type": "code",
   "execution_count": 22,
   "id": "d1ab4354-83c5-4fe6-9150-c3fd7d202d11",
   "metadata": {},
   "outputs": [],
   "source": [
    "X_train, X_test, y_train, y_test = train_test_split(X, y, test_size=0.3, random_state=0)"
   ]
  },
  {
   "cell_type": "code",
   "execution_count": 23,
   "id": "4f3e8e66-4926-4e15-b4e3-c7b66bb6ca27",
   "metadata": {},
   "outputs": [],
   "source": [
    "constant_features = [feat for feat in X_train.columns if X_train[feat].std() == 0]"
   ]
  },
  {
   "cell_type": "code",
   "execution_count": 24,
   "id": "f438e678-c891-495b-8680-044f4753898e",
   "metadata": {},
   "outputs": [],
   "source": [
    "X_train.drop(labels=constant_features, axis=1, inplace=True)\n",
    "X_test.drop(labels=constant_features, axis=1, inplace=True)"
   ]
  },
  {
   "cell_type": "code",
   "execution_count": 25,
   "id": "f9ea1301-1bc3-4627-bead-12502231f90a",
   "metadata": {},
   "outputs": [],
   "source": [
    "X_train, X_test, y_train, y_test = train_test_split(X, y, test_size=0.3, random_state=0)"
   ]
  },
  {
   "cell_type": "code",
   "execution_count": 26,
   "id": "ad509801-4a4c-419b-b14d-ec7d4674c2e6",
   "metadata": {},
   "outputs": [],
   "source": [
    "constant_features = [feat for feat in X_train.columns if X_train[feat].std() == 0]"
   ]
  },
  {
   "cell_type": "code",
   "execution_count": 27,
   "id": "194122f2-600e-493b-a7d9-d69b05f5430e",
   "metadata": {},
   "outputs": [],
   "source": [
    "X_train.drop(labels=constant_features, axis=1, inplace=True)\n",
    "X_test.drop(labels=constant_features, axis=1, inplace=True)"
   ]
  },
  {
   "cell_type": "code",
   "execution_count": 28,
   "id": "61138648-f6e8-4c85-8608-c88faa4932c6",
   "metadata": {},
   "outputs": [
    {
     "data": {
      "text/plain": [
       "((35000, 266), (15000, 266))"
      ]
     },
     "execution_count": 28,
     "metadata": {},
     "output_type": "execute_result"
    }
   ],
   "source": [
    "X_train.shape, X_test.shape"
   ]
  },
  {
   "cell_type": "code",
   "execution_count": 29,
   "id": "bcaded15-8ec3-48d3-bafb-0f524c39b11f",
   "metadata": {},
   "outputs": [],
   "source": [
    "quasi_constant_feat = []"
   ]
  },
  {
   "cell_type": "code",
   "execution_count": 30,
   "id": "7f12a473-ac35-4771-96c8-a8651a57c404",
   "metadata": {},
   "outputs": [],
   "source": [
    "for feature in X_train.columns:\n",
    "    predominant = (X_train[feature].value_counts() / float(\n",
    "        len(X_train))).sort_values(ascending=False).values[0]\n",
    "    if predominant > 0.998:\n",
    "        quasi_constant_feat.append(feature)"
   ]
  },
  {
   "cell_type": "code",
   "execution_count": 31,
   "id": "ae1afdbb-e249-4fa0-88b6-55a178534607",
   "metadata": {},
   "outputs": [
    {
     "data": {
      "text/plain": [
       "108"
      ]
     },
     "execution_count": 31,
     "metadata": {},
     "output_type": "execute_result"
    }
   ],
   "source": [
    "len(quasi_constant_feat)"
   ]
  },
  {
   "cell_type": "code",
   "execution_count": 32,
   "id": "99fa5e32-d9f4-4b78-888c-8365b857f272",
   "metadata": {},
   "outputs": [],
   "source": [
    "X_train.drop(labels=quasi_constant_feat, axis=1, inplace=True)\n",
    "X_test.drop(labels=quasi_constant_feat, axis=1, inplace=True)"
   ]
  },
  {
   "cell_type": "code",
   "execution_count": 33,
   "id": "ab1662c2-6b2b-4b64-85fe-f6a81c898785",
   "metadata": {},
   "outputs": [
    {
     "data": {
      "text/plain": [
       "((35000, 158), (15000, 158))"
      ]
     },
     "execution_count": 33,
     "metadata": {},
     "output_type": "execute_result"
    }
   ],
   "source": [
    "X_train.shape, X_test.shape"
   ]
  },
  {
   "cell_type": "code",
   "execution_count": null,
   "id": "e3a566de-b66d-4a5e-b3e3-d575be2fe814",
   "metadata": {},
   "outputs": [],
   "source": []
  }
 ],
 "metadata": {
  "kernelspec": {
   "display_name": "Python 3 (ipykernel)",
   "language": "python",
   "name": "python3"
  },
  "language_info": {
   "codemirror_mode": {
    "name": "ipython",
    "version": 3
   },
   "file_extension": ".py",
   "mimetype": "text/x-python",
   "name": "python",
   "nbconvert_exporter": "python",
   "pygments_lexer": "ipython3",
   "version": "3.9.7"
  }
 },
 "nbformat": 4,
 "nbformat_minor": 5
}
